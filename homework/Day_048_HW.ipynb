{
 "cells": [
  {
   "cell_type": "code",
   "execution_count": 1,
   "metadata": {},
   "outputs": [
    {
     "name": "stdout",
     "output_type": "stream",
     "text": [
      "(2000, 40)\n",
      "(2000, 1)\n"
     ]
    }
   ],
   "source": [
    "# 載入需要的套件\n",
    "import os\n",
    "import pandas as pd\n",
    "from sklearn import datasets, linear_model, metrics\n",
    "from sklearn.model_selection import train_test_split, GridSearchCV, cross_val_score\n",
    "from sklearn.ensemble import GradientBoostingRegressor\n",
    "from sklearn.metrics import mean_squared_error, r2_score, accuracy_score\n",
    "import warnings\n",
    "warnings.filterwarnings('ignore')\n",
    "\n",
    "# 設定 data_path\n",
    "dir_data = './data/'\n",
    "\n",
    "# 讀取資料檔\n",
    "f_data = os.path.join(dir_data, 'train.csv')\n",
    "data = pd.read_csv(f_data,header = None)\n",
    "data = data.append(data)\n",
    "print(data.shape)\n",
    "\n",
    "# 讀取資料檔\n",
    "f_label = os.path.join(dir_data, 'trainLabels.csv')\n",
    "label = pd.read_csv(f_label,header = None)\n",
    "label = label.append(label)\n",
    "print(label.shape)\n",
    "\n",
    "# from sklearn import preprocessing\n",
    "# data = preprocessing.scale(data)\n",
    "\n",
    "from sklearn.preprocessing import StandardScaler, Normalizer\n",
    "\n",
    "norm = Normalizer()\n",
    "data = norm.fit_transform(data)"
   ]
  },
  {
   "cell_type": "code",
   "execution_count": 10,
   "metadata": {},
   "outputs": [
    {
     "name": "stdout",
     "output_type": "stream",
     "text": [
      "[[-0.10185882 -0.06715206 -0.0936666  ...  0.01845507 -0.38332155\n",
      "  -0.28676844]\n",
      " [ 0.00197568 -0.02785185  0.11317489 ...  0.01128098 -0.05162831\n",
      "   0.13085704]\n",
      " [ 0.1353222  -0.05013337 -0.08342005 ...  0.04612763  0.10913548\n",
      "   0.18041458]\n",
      " ...\n",
      " [ 0.01992434  0.07963108  0.05467088 ... -0.03370306  0.09231461\n",
      "   0.16359838]\n",
      " [ 0.06602803 -0.0762501  -0.10961667 ...  0.01356526  0.03124672\n",
      "   0.13924554]\n",
      " [-0.03045145  0.04224076 -0.03888053 ...  0.21521913 -0.12597119\n",
      "   0.11795832]]\n",
      "Logistic:  0.835\n"
     ]
    }
   ],
   "source": [
    "# 切分訓練集/測試集\n",
    "x_train, x_test, y_train, y_test = train_test_split(data, label, test_size=0.1, random_state=4)\n",
    "# 建立一個線性回歸模型\n",
    "LogisticRegression = linear_model.LogisticRegression()\n",
    "\n",
    "# 將訓練資料丟進去模型訓練\n",
    "LogisticRegression.fit(x_train, y_train)\n",
    "\n",
    "# 將測試資料丟進模型得到預測結果\n",
    "y_pred = LogisticRegression.predict(x_test)\n",
    "\n",
    "acc = accuracy_score(y_test, y_pred)\n",
    "print(\"Logistic: \", acc)"
   ]
  },
  {
   "cell_type": "code",
   "execution_count": 11,
   "metadata": {},
   "outputs": [
    {
     "name": "stdout",
     "output_type": "stream",
     "text": [
      "[0 1 0 1 1 1 1 1 1 1 0 1 1 1 0 0 0 0 0 0 1 0 0 1 0 0 0 1 0 0 1 0 0 0 0 1 1\n",
      " 0 0 0 1 0 1 0 0 0 0 1 1 1 1 0 1 0 1 1 0 1 0 1 0 1 0 0 1 1 0 1 0 1 1 1 1 0\n",
      " 1 0 1 1 1 1 1 0 0 1 0 0 0 1 0 1 0 1 1 0 0 0 0 0 0 1 1 0 0 0 1 1 1 1 1 0 1\n",
      " 1 0 0 1 1 0 0 0 1 1 0 1 0 0 0 0 0 1 1 1 1 1 1 1 0 1 1 0 1 1 0 1 1 1 0 1 0\n",
      " 0 1 0 0 1 1 1 1 0 1 1 1 1 1 0 1 0 1 1 1 1 1 0 0 1 1 1 0 1 0 0 1 0 1 1 1 0\n",
      " 1 0 0 0 0 0 0 1 1 1 0 1 0 1 1]\n",
      "KNN 0.925\n",
      "KNN 0.9238972431077694\n",
      "SVM 0.835\n",
      "SVM 0.8340100250626566\n",
      "Decision Tree 1.0\n",
      "Decision 1.0\n",
      "Random Forest 0.99\n",
      "Random Forest 0.9899749373433584\n"
     ]
    }
   ],
   "source": [
    "#KNN\n",
    "from sklearn.neighbors import KNeighborsClassifier\n",
    "\n",
    "knn_model = KNeighborsClassifier()\n",
    "knn_model.fit(x_train,y_train)\n",
    "y_pred = knn_model.predict(x_test)\n",
    "print(y_pred)\n",
    "print('KNN',accuracy_score(y_test, y_pred))\n",
    "print('KNN',cross_val_score(knn_model,y_test, y_pred, cv=10).mean())\n",
    "\n",
    "#SVM\n",
    "from sklearn.svm import SVC\n",
    "\n",
    "svc_model = SVC(gamma = 'auto')\n",
    "svc_model.fit(x_train,y_train)\n",
    "y_pred = svc_model.predict(x_test)\n",
    "print('SVM',accuracy_score(y_test, y_pred))\n",
    "print('SVM',cross_val_score(svc_model,y_test, y_pred, cv=10).mean())\n",
    "\n",
    "\n",
    "#DECISON TREE\n",
    "from sklearn.tree import DecisionTreeClassifier\n",
    "\n",
    "dtree_model = DecisionTreeClassifier()\n",
    "dtree_model.fit(x_train,y_train)\n",
    "y_pred = dtree_model.predict(x_test)\n",
    "print('Decision Tree',accuracy_score(y_test, y_pred))\n",
    "print('Decision',cross_val_score(dtree_model,y_test, y_pred, cv=10).mean())\n",
    "\n",
    "#RANDOM FOREST\n",
    "from sklearn.ensemble import RandomForestClassifier\n",
    "\n",
    "rfc_model = RandomForestClassifier(n_estimators = 100,random_state = 99)\n",
    "rfc_model.fit(x_train,y_train)\n",
    "y_pred = rfc_model.predict(x_test)\n",
    "print('Random Forest',accuracy_score(y_test, y_pred))\n",
    "print('Random Forest',cross_val_score(rfc_model,y_test, y_pred, cv=10).mean())"
   ]
  },
  {
   "cell_type": "code",
   "execution_count": 4,
   "metadata": {},
   "outputs": [
    {
     "name": "stdout",
     "output_type": "stream",
     "text": [
      "(9000, 40)\n",
      "[1 1 1 ... 0 0 1]\n"
     ]
    }
   ],
   "source": [
    "test_data = os.path.join(dir_data, 'test.csv')\n",
    "f_test_data = pd.read_csv(test_data,header = None)\n",
    "print(f_test_data.shape)\n",
    "predict = rfc_model.predict(f_test_data)\n",
    "print(predict)"
   ]
  },
  {
   "cell_type": "code",
   "execution_count": 5,
   "metadata": {},
   "outputs": [],
   "source": [
    "df = pd.DataFrame({\"Solution\":predict})\n",
    "df.index += 1\n",
    "df.to_csv(\"day48_predict.csv\",index = True, sep = \",\",index_label = \"Id\")"
   ]
  },
  {
   "cell_type": "code",
   "execution_count": 6,
   "metadata": {},
   "outputs": [
    {
     "name": "stdout",
     "output_type": "stream",
     "text": [
      "KNN final best Score 0.92\n",
      "KNN final best Params {'n_neighbors': 5}\n",
      "KNN Accuracy 0.9899749373433584\n"
     ]
    }
   ],
   "source": [
    "knn = KNeighborsClassifier()\n",
    "n_neighbors=[3,5,6,7,8,9,10]\n",
    "param_grid = dict(n_neighbors=n_neighbors)\n",
    "\n",
    "grid_search_knn = GridSearchCV(estimator=knn, param_grid=param_grid, cv = 10, n_jobs=-1,scoring='accuracy').fit(x_train,y_train.values.ravel())\n",
    "knn_best = grid_search_knn.best_estimator_\n",
    "print('KNN final best Score', grid_search_knn.best_score_)\n",
    "print('KNN final best Params',grid_search_knn.best_params_)\n",
    "print('KNN Accuracy',cross_val_score(knn_best,y_test, y_pred, cv=10).mean())"
   ]
  },
  {
   "cell_type": "code",
   "execution_count": 7,
   "metadata": {},
   "outputs": [
    {
     "name": "stdout",
     "output_type": "stream",
     "text": [
      "(9000, 40)\n",
      "[1 0 1 ... 1 0 1]\n"
     ]
    }
   ],
   "source": [
    "test_data = os.path.join(dir_data, 'test.csv')\n",
    "f_test_data = pd.read_csv(test_data,header = None)\n",
    "print(f_test_data.shape)\n",
    "predict = grid_search_knn.predict(f_test_data)\n",
    "print(predict)"
   ]
  },
  {
   "cell_type": "code",
   "execution_count": 8,
   "metadata": {},
   "outputs": [],
   "source": [
    "df = pd.DataFrame({\"Solution\":predict})\n",
    "df.index += 1\n",
    "df.to_csv(\"day48_predict.csv\",index = True, sep = \",\",index_label = \"Id\")"
   ]
  },
  {
   "cell_type": "code",
   "execution_count": null,
   "metadata": {},
   "outputs": [],
   "source": []
  }
 ],
 "metadata": {
  "kernelspec": {
   "display_name": "Python 3",
   "language": "python",
   "name": "python3"
  },
  "language_info": {
   "codemirror_mode": {
    "name": "ipython",
    "version": 3
   },
   "file_extension": ".py",
   "mimetype": "text/x-python",
   "name": "python",
   "nbconvert_exporter": "python",
   "pygments_lexer": "ipython3",
   "version": "3.6.8"
  }
 },
 "nbformat": 4,
 "nbformat_minor": 2
}
